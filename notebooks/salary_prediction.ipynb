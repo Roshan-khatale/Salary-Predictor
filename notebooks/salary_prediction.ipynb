{
  "cells": [
    {
      "cell_type": "code",
      "execution_count": null,
      "metadata": {},
      "outputs": [],
      "source": [
        "import pandas as pd\n",
        "from sklearn.linear_model import LinearRegression\n",
        "import matplotlib.pyplot as plt\n\n",
        "df = pd.read_csv('../data/salary_data.csv')\n",
        "X = df[['YearsExperience']]\n",
        "y = df['Salary']\n\n",
        "model = LinearRegression()\n",
        "model.fit(X, y)\n",
        "plt.scatter(X, y)\n",
        "plt.plot(X, model.predict(X), color='red')\n",
        "plt.xlabel('Years of Experience')\n",
        "plt.ylabel('Salary')\n",
        "plt.title('Experience vs Salary')\n",
        "plt.show()"
      ]
    }
  ],
  "metadata": {},
  "nbformat": 4,
  "nbformat_minor": 5
}